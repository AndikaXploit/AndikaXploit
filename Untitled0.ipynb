{
  "nbformat": 4,
  "nbformat_minor": 0,
  "metadata": {
    "colab": {
      "provenance": [],
      "authorship_tag": "ABX9TyOzdeTup0os1MTtu4C3tut4",
      "include_colab_link": true
    },
    "kernelspec": {
      "name": "python3",
      "display_name": "Python 3"
    },
    "language_info": {
      "name": "python"
    }
  },
  "cells": [
    {
      "cell_type": "markdown",
      "metadata": {
        "id": "view-in-github",
        "colab_type": "text"
      },
      "source": [
        "<a href=\"https://colab.research.google.com/github/AndikaXploit/AndikaXploit/blob/main/Untitled0.ipynb\" target=\"_parent\"><img src=\"https://colab.research.google.com/assets/colab-badge.svg\" alt=\"Open In Colab\"/></a>"
      ]
    },
    {
      "cell_type": "code",
      "execution_count": 3,
      "metadata": {
        "colab": {
          "base_uri": "https://localhost:8080/"
        },
        "id": "ATRKlOHhuTKr",
        "outputId": "2568993e-8c27-43e1-9315-c8c800dead46"
      },
      "outputs": [
        {
          "output_type": "stream",
          "name": "stdout",
          "text": [
            "{1, 2, 3, 'b', 'a', 'c'}\n",
            "<class 'set'>\n",
            "[1, 2, 3, 'a', 'b', 'c']\n",
            "<class 'list'>\n"
          ]
        }
      ],
      "source": [
        "B = {1, 2, 3, \"a\", \"b\", \"c\"}\n",
        "print (B)\n",
        "print(type(B))\n",
        "\n",
        "C = [1, 2, 3, \"a\", \"b\", \"c\"]\n",
        "print(C)\n",
        "print(type(C))\n"
      ]
    },
    {
      "cell_type": "code",
      "source": [
        "angka1 = 10\n",
        "angka2 = 3\n",
        "hasil = angka1 + angka2\n",
        "print(hasil)"
      ],
      "metadata": {
        "colab": {
          "base_uri": "https://localhost:8080/"
        },
        "id": "nT418mkHvSmf",
        "outputId": "abbe5d6f-0573-469a-ccf4-8ae54316280e"
      },
      "execution_count": 4,
      "outputs": [
        {
          "output_type": "stream",
          "name": "stdout",
          "text": [
            "13\n"
          ]
        }
      ]
    },
    {
      "cell_type": "markdown",
      "source": [],
      "metadata": {
        "id": "MY1AQ-_YwCV-"
      }
    },
    {
      "cell_type": "code",
      "source": [
        "angka1 = 10\n",
        "angka2 = 3\n",
        "hasil = angka1 == angka2\n",
        "print(hasil)"
      ],
      "metadata": {
        "colab": {
          "base_uri": "https://localhost:8080/"
        },
        "id": "7w9K1zhIwNu5",
        "outputId": "c3664be6-d9e0-465a-b611-f7a6f3e88fb8"
      },
      "execution_count": 5,
      "outputs": [
        {
          "output_type": "stream",
          "name": "stdout",
          "text": [
            "False\n"
          ]
        }
      ]
    },
    {
      "cell_type": "markdown",
      "source": [
        "OPERATOR PENUGASAN"
      ],
      "metadata": {
        "id": "uqVSaS4iw-60"
      }
    },
    {
      "cell_type": "code",
      "source": [
        "bilangan1 = 5\n",
        "bilangan2 = bilangan1\n",
        "print(bilangan2)\n",
        "\n",
        "bilangan1 += 2 #bilangan1 = bilangan1+2\n",
        "print(bilangan1)"
      ],
      "metadata": {
        "colab": {
          "base_uri": "https://localhost:8080/"
        },
        "id": "WjWQmZMtwvbR",
        "outputId": "fa5216a8-37fa-411e-cbc8-f9a7cf31b72d"
      },
      "execution_count": 7,
      "outputs": [
        {
          "output_type": "stream",
          "name": "stdout",
          "text": [
            "5\n",
            "7\n"
          ]
        }
      ]
    },
    {
      "cell_type": "markdown",
      "source": [
        "OPERASI LOGIKA"
      ],
      "metadata": {
        "id": "7vwHjtWKx6cf"
      }
    },
    {
      "cell_type": "code",
      "source": [
        "A = True\n",
        "B = False\n",
        "hasil = A or B\n",
        "print(hasil)"
      ],
      "metadata": {
        "colab": {
          "base_uri": "https://localhost:8080/"
        },
        "id": "9QP1QVCSx8oX",
        "outputId": "114986ad-f7da-4832-c194-c8ff0efc62d7"
      },
      "execution_count": 9,
      "outputs": [
        {
          "output_type": "stream",
          "name": "stdout",
          "text": [
            "True\n"
          ]
        }
      ]
    },
    {
      "cell_type": "markdown",
      "source": [
        "CONTROL FLOW"
      ],
      "metadata": {
        "id": "AOTGVWYIyann"
      }
    },
    {
      "cell_type": "code",
      "source": [
        "angka = 5\n",
        "if angka > 0:\n",
        "  print(\"bilangan positif\")\n",
        "else : \n",
        "    print(\"bilangan negatif\")"
      ],
      "metadata": {
        "colab": {
          "base_uri": "https://localhost:8080/"
        },
        "id": "D2L98FKIyePI",
        "outputId": "9c77a360-2ff5-403c-a5fa-a37c7bb26862"
      },
      "execution_count": 11,
      "outputs": [
        {
          "output_type": "stream",
          "name": "stdout",
          "text": [
            "bilangan positif\n"
          ]
        }
      ]
    },
    {
      "cell_type": "markdown",
      "source": [],
      "metadata": {
        "id": "7wj69L_0yac6"
      }
    },
    {
      "cell_type": "code",
      "source": [
        "for i  in range(0,10) :\n",
        "  print(i)"
      ],
      "metadata": {
        "colab": {
          "base_uri": "https://localhost:8080/"
        },
        "id": "XfnyS7lWzmMU",
        "outputId": "a0f6edff-3106-4b15-e09b-78094ae3fffc"
      },
      "execution_count": 12,
      "outputs": [
        {
          "output_type": "stream",
          "name": "stdout",
          "text": [
            "0\n",
            "1\n",
            "2\n",
            "3\n",
            "4\n",
            "5\n",
            "6\n",
            "7\n",
            "8\n",
            "9\n"
          ]
        }
      ]
    },
    {
      "cell_type": "code",
      "source": [
        "i = 0\n",
        "while i<10:\n",
        "  print(i)\n",
        "  i += 1"
      ],
      "metadata": {
        "colab": {
          "base_uri": "https://localhost:8080/"
        },
        "id": "7LjPpJ9Oz7YD",
        "outputId": "fe95bdc7-1747-4ecf-9de4-e3c851005791"
      },
      "execution_count": 13,
      "outputs": [
        {
          "output_type": "stream",
          "name": "stdout",
          "text": [
            "0\n",
            "1\n",
            "2\n",
            "3\n",
            "4\n",
            "5\n",
            "6\n",
            "7\n",
            "8\n",
            "9\n"
          ]
        }
      ]
    },
    {
      "cell_type": "code",
      "source": [
        "for i in range(0,10):\n",
        "  print (i)\n",
        "  if i == 5:\n",
        "    continue\n",
        "  print (i)"
      ],
      "metadata": {
        "colab": {
          "base_uri": "https://localhost:8080/"
        },
        "id": "DBnrOKTh0ssz",
        "outputId": "0c9dae29-da59-456a-b5e3-6be648e18eac"
      },
      "execution_count": 14,
      "outputs": [
        {
          "output_type": "stream",
          "name": "stdout",
          "text": [
            "0\n",
            "0\n",
            "1\n",
            "1\n",
            "2\n",
            "2\n",
            "3\n",
            "3\n",
            "4\n",
            "4\n",
            "5\n",
            "6\n",
            "6\n",
            "7\n",
            "7\n",
            "8\n",
            "8\n",
            "9\n",
            "9\n"
          ]
        }
      ]
    },
    {
      "cell_type": "code",
      "source": [
        "import numpy as np\n",
        "# list python\n",
        "a = [1, 2, 3, 4, 5]\n",
        "b = [6, 7, 8, 9, 10]\n",
        "hasil = a + b\n",
        "print(hasil)\n",
        "\n",
        "# array numpy\n",
        "anp = np.array([1, 2, 3, 4, 5])\n",
        "bnp = np.array([6, 7, 8, 9, 10])\n",
        "hasil2 = anp + bnp\n",
        "print(hasil2)"
      ],
      "metadata": {
        "colab": {
          "base_uri": "https://localhost:8080/"
        },
        "id": "xVXtSLBa1fEx",
        "outputId": "86f15f4d-f952-4aec-d9b3-3104b5413134"
      },
      "execution_count": 17,
      "outputs": [
        {
          "output_type": "stream",
          "name": "stdout",
          "text": [
            "[1, 2, 3, 4, 5, 6, 7, 8, 9, 10]\n",
            "[ 7  9 11 13 15]\n"
          ]
        }
      ]
    },
    {
      "cell_type": "code",
      "source": [
        "import numpy as np\n",
        "\n",
        "a = np.arange(10) + 5\n",
        "print(a)\n",
        "print(a[2])\n",
        "print(a[2])\n",
        "print(a[5:8]) #mengambil array index ke 5-7"
      ],
      "metadata": {
        "colab": {
          "base_uri": "https://localhost:8080/"
        },
        "id": "Kn3BRiXe3fA-",
        "outputId": "df95b656-dbc2-4b76-96ff-52acb52f0659"
      },
      "execution_count": 18,
      "outputs": [
        {
          "output_type": "stream",
          "name": "stdout",
          "text": [
            "[ 5  6  7  8  9 10 11 12 13 14]\n",
            "7\n",
            "7\n",
            "[10 11 12]\n"
          ]
        }
      ]
    },
    {
      "cell_type": "code",
      "source": [
        "a = np.array(([1, 2],\n",
        "              [3, 4]))\n",
        "b = np.ones([2, 1])#matriks 1, 2 baris 1 kolom\n",
        "\n",
        "print(\"Matriks a :\")\n",
        "print(a)\n",
        "print(\"Matriks b :\")\n",
        "print(b)"
      ],
      "metadata": {
        "colab": {
          "base_uri": "https://localhost:8080/"
        },
        "id": "LcFoU8RS4lb0",
        "outputId": "20c518c3-153b-4540-9d47-b0046d856c58"
      },
      "execution_count": 20,
      "outputs": [
        {
          "output_type": "stream",
          "name": "stdout",
          "text": [
            "Matriks a :\n",
            "[[1 2]\n",
            " [3 4]]\n",
            "Matriks b :\n",
            "[[1.]\n",
            " [1.]]\n"
          ]
        }
      ]
    },
    {
      "cell_type": "code",
      "source": [
        "# perkalian matriks\n",
        "c = np.dot(a, b)\n",
        "c2 = a.dot(b)\n",
        "print(\"matriks c : \")\n",
        "print(c)\n",
        "print(c2)"
      ],
      "metadata": {
        "colab": {
          "base_uri": "https://localhost:8080/"
        },
        "id": "eXEdOAca5nuk",
        "outputId": "6eff1a96-f52f-4ec5-bc60-8db16ca36d47"
      },
      "execution_count": 21,
      "outputs": [
        {
          "output_type": "stream",
          "name": "stdout",
          "text": [
            "matriks c : \n",
            "[[3.]\n",
            " [7.]]\n",
            "[[3.]\n",
            " [7.]]\n"
          ]
        }
      ]
    }
  ]
}